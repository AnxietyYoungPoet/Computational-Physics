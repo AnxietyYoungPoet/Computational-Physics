{
 "cells": [
  {
   "cell_type": "markdown",
   "metadata": {},
   "source": [
    "# 第七题\n",
    "用Monte Carlo方法计算如下定积分，并讨论有效数字位数。\n",
    "$$\n",
    "\\begin{array}{l}\n",
    "\\int_{0}^{1} d x \\sqrt{x+\\sqrt{x}} \\\\\n",
    "\\int_{0}^{7 / 10} d x \\int_{0}^{4 / 5} d y \\int_{0}^{9 / 10} d z \\int_{0}^{1} d u \\int_{0}^{11 / 10} d v\\left(6-x^{2}-y^{2}-z^{2}-u^{2}-v^{2}\\right)\n",
    "\\end{array}\n",
    "$$"
   ]
  },
  {
   "cell_type": "code",
   "execution_count": 1,
   "metadata": {},
   "outputs": [],
   "source": [
    "import numpy as np"
   ]
  },
  {
   "cell_type": "code",
   "execution_count": 3,
   "metadata": {},
   "outputs": [
    {
     "name": "stdout",
     "output_type": "stream",
     "text": [
      "Mean of 500 MC sample: 1.0468565972375632\n",
      "Mean of 500 MC sample: 1.035408429850851\n",
      "Mean of 500 MC sample: 1.0566985811411607\n",
      "Mean of 500 MC sample: 1.036197686886824\n",
      "Mean of 500 MC sample: 1.0732736148347344\n",
      "Mean of 500 MC sample: 1.042065998357601\n",
      "Mean of 500 MC sample: 1.0285961547210067\n",
      "Mean of 500 MC sample: 1.0530577105873782\n",
      "Mean of 500 MC sample: 1.0581641087679277\n",
      "Mean of 500 MC sample: 1.0571674105240318\n",
      "Mean of 50000 MC sample: 1.0452633698437241\n",
      "Mean of 50000 MC sample: 1.0460402444590338\n",
      "Mean of 50000 MC sample: 1.0452104013893506\n",
      "Mean of 50000 MC sample: 1.0457473482641348\n",
      "Mean of 50000 MC sample: 1.046409026277282\n",
      "Mean of 50000 MC sample: 1.0452372745551457\n",
      "Mean of 50000 MC sample: 1.043692010840504\n",
      "Mean of 50000 MC sample: 1.0456954759662858\n",
      "Mean of 50000 MC sample: 1.043959852639479\n",
      "Mean of 50000 MC sample: 1.0465428958941816\n",
      "Mean of 5000000 MC sample: 1.0452464053597887\n",
      "Mean of 5000000 MC sample: 1.0453454056607858\n",
      "Mean of 5000000 MC sample: 1.0452252266885174\n",
      "Mean of 5000000 MC sample: 1.0455479959398148\n",
      "Mean of 5000000 MC sample: 1.045231199240489\n",
      "Mean of 5000000 MC sample: 1.0454693670066935\n",
      "Mean of 5000000 MC sample: 1.04521659761164\n",
      "Mean of 5000000 MC sample: 1.0454950073393698\n",
      "Mean of 5000000 MC sample: 1.045340674797641\n",
      "Mean of 5000000 MC sample: 1.0452928742163659\n"
     ]
    }
   ],
   "source": [
    "for index in [int(5e2), int(5e4), int(5e6)]:\n",
    "    for _ in range(10):\n",
    "        x = np.random.rand(index)\n",
    "        f_bar = np.sqrt(x + np.sqrt(x))\n",
    "        print(f'Mean of {index} MC sample: {np.mean(f_bar)}')"
   ]
  },
  {
   "cell_type": "code",
   "execution_count": 9,
   "metadata": {},
   "outputs": [
    {
     "name": "stdout",
     "output_type": "stream",
     "text": [
      "Mean of 500 MC sample: 2.5441585044922337\n",
      "Mean of 500 MC sample: 2.542612917159426\n",
      "Mean of 500 MC sample: 2.5806398027194786\n",
      "Mean of 500 MC sample: 2.5433801427699834\n",
      "Mean of 500 MC sample: 2.5727934335828633\n",
      "Mean of 500 MC sample: 2.5632719177824015\n",
      "Mean of 500 MC sample: 2.5447246342864696\n",
      "Mean of 500 MC sample: 2.570167882298845\n",
      "Mean of 500 MC sample: 2.5722604151403754\n",
      "Mean of 500 MC sample: 2.5500194461940486\n",
      "Mean of 50000 MC sample: 2.5577798664736946\n",
      "Mean of 50000 MC sample: 2.5587177538537182\n",
      "Mean of 50000 MC sample: 2.5600697601782993\n",
      "Mean of 50000 MC sample: 2.557631018536244\n",
      "Mean of 50000 MC sample: 2.5621758807908086\n",
      "Mean of 50000 MC sample: 2.557804370629849\n",
      "Mean of 50000 MC sample: 2.561686842038362\n",
      "Mean of 50000 MC sample: 2.5587040124891858\n",
      "Mean of 50000 MC sample: 2.558428955481315\n",
      "Mean of 50000 MC sample: 2.5590067622234844\n",
      "Mean of 5000000 MC sample: 2.559361754544847\n",
      "Mean of 5000000 MC sample: 2.559594564435028\n",
      "Mean of 5000000 MC sample: 2.5594724728826312\n",
      "Mean of 5000000 MC sample: 2.5595580339722637\n",
      "Mean of 5000000 MC sample: 2.559506245356583\n",
      "Mean of 5000000 MC sample: 2.5595555673255124\n",
      "Mean of 5000000 MC sample: 2.559309550207824\n",
      "Mean of 5000000 MC sample: 2.559501802454158\n",
      "Mean of 5000000 MC sample: 2.559733698952766\n",
      "Mean of 5000000 MC sample: 2.5595306051902886\n"
     ]
    }
   ],
   "source": [
    "for index in [int(5e2), int(5e4), int(5e6)]:\n",
    "    for _ in range(10):\n",
    "        rands = np.random.rand(index, 5) * np.array([[0.7, 0.8, 0.9, 1, 1.1]])\n",
    "        print(f'Mean of {index} MC sample: {np.mean(6 - np.sum(np.square(rands), axis=1)) * 0.7 * 0.8 * 0.9 * 1.1}')"
   ]
  },
  {
   "cell_type": "code",
   "execution_count": null,
   "metadata": {},
   "outputs": [],
   "source": []
  }
 ],
 "metadata": {
  "kernelspec": {
   "display_name": "Python 3",
   "language": "python",
   "name": "python3"
  },
  "language_info": {
   "codemirror_mode": {
    "name": "ipython",
    "version": 3
   },
   "file_extension": ".py",
   "mimetype": "text/x-python",
   "name": "python",
   "nbconvert_exporter": "python",
   "pygments_lexer": "ipython3",
   "version": "3.7.6"
  }
 },
 "nbformat": 4,
 "nbformat_minor": 4
}
