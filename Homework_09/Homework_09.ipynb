{
 "cells": [
  {
   "cell_type": "markdown",
   "metadata": {},
   "source": [
    "# Homework 09\n",
    "研究有取向的布朗粒子（如纳米棒）的随机行走，计算取向的自关联函数：$C(t)=\\left\\langle u_{x}(t) u_{x}(0)\\right\\rangle$，其中 u x 为取向单位矢量在 x 轴上的投影"
   ]
  },
  {
   "cell_type": "code",
   "execution_count": 1,
   "metadata": {},
   "outputs": [],
   "source": [
    "import numpy as np\n",
    "import matplotlib.pyplot as plt\n",
    "import matplotlib\n",
    "import multiprocessing as mp\n",
    "import time\n",
    "import threading\n",
    "%matplotlib inline"
   ]
  },
  {
   "cell_type": "code",
   "execution_count": 2,
   "metadata": {},
   "outputs": [
    {
     "name": "stdout",
     "output_type": "stream",
     "text": [
      "144.86544108390808 (1000, 1)\n"
     ]
    }
   ],
   "source": [
    "N = int(1e5)\n",
    "T = 1000\n",
    "step = 0.1\n",
    "num_t = 10\n",
    "\n",
    "\n",
    "def one_run(n, lock, covs):\n",
    "    local_covs = []\n",
    "    for row in range(n):\n",
    "        theta_0 = np.random.rand(1) * np.pi * 2\n",
    "        u0 = np.cos(theta_0)\n",
    "        rands = np.random.randint(0, high=2, size=T) * 2 - 1\n",
    "        cov = []\n",
    "        theta_sum = theta_0\n",
    "        for col, r in enumerate(rands):\n",
    "            cov.append(np.cos(theta_sum) * u0)\n",
    "            theta_sum += r * step\n",
    "        local_covs.append(cov)\n",
    "\n",
    "    lock.acquire()\n",
    "    try:\n",
    "        covs.append(np.mean(local_covs, axis=0))\n",
    "    finally:\n",
    "        lock.release()\n",
    "\n",
    "start = time.time()      \n",
    "n = N // num_t\n",
    "ts = []\n",
    "lock = mp.Lock()\n",
    "share_covs = mp.Manager().list()\n",
    "for t in range(num_t):\n",
    "    t = mp.Process(target=one_run, args=(n, lock, share_covs))\n",
    "    ts.append(t)\n",
    "\n",
    "for t in ts:\n",
    "    t.start()\n",
    "\n",
    "for t in ts:\n",
    "    t.join()\n",
    "\n",
    "\n",
    "covs = np.mean(share_covs, axis=0)\n",
    "print(time.time() - start, covs.shape)"
   ]
  },
  {
   "cell_type": "code",
   "execution_count": 6,
   "metadata": {},
   "outputs": [
    {
     "data": {
      "image/png": "[encoded data removed]",
      "text/plain": [
       "<Figure size 432x288 with 1 Axes>"
      ]
     },
     "metadata": {
      "needs_background": "light"
     },
     "output_type": "display_data"
    }
   ],
   "source": [
    "x = np.arange(0, 1001, 1)\n",
    "y = 0.5 * np.exp(-x / 200)\n",
    "plt.plot(covs)\n",
    "plt.plot(x, y)\n",
    "plt.show()"
   ]
  },
  {
   "cell_type": "code",
   "execution_count": null,
   "metadata": {},
   "outputs": [],
   "source": []
  }
 ],
 "metadata": {
  "kernelspec": {
   "display_name": "Python 3",
   "language": "python",
   "name": "python3"
  },
  "language_info": {
   "codemirror_mode": {
    "name": "ipython",
    "version": 3
   },
   "file_extension": ".py",
   "mimetype": "text/x-python",
   "name": "python",
   "nbconvert_exporter": "python",
   "pygments_lexer": "ipython3",
   "version": "3.7.6"
  }
 },
 "nbformat": 4,
 "nbformat_minor": 4
}
