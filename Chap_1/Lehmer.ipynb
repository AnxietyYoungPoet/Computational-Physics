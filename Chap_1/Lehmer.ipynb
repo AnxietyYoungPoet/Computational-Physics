{
 "cells": [
  {
   "cell_type": "markdown",
   "metadata": {},
   "source": [
    "Lehmer 线性同余法随机数产生器"
   ]
  },
  {
   "cell_type": "code",
   "execution_count": null,
   "metadata": {},
   "outputs": [],
   "source": [
    "import numpy as np\n",
    "import matplotlib.pyplot as plt\n",
    "m = 2**31 - 1\n",
    "a = 7**5\n",
    "b = 0\n",
    "q = m // a\n",
    "r = m % a\n",
    "N = int(5e7)"
   ]
  },
  {
   "cell_type": "code",
   "execution_count": null,
   "metadata": {},
   "outputs": [],
   "source": [
    "def lehmer(z):\n",
    "    ret = a * (z % q) - r * (z // q)\n",
    "    if ret >= 0:\n",
    "        return ret\n",
    "    return ret + m"
   ]
  },
  {
   "cell_type": "code",
   "execution_count": null,
   "metadata": {},
   "outputs": [],
   "source": [
    "ret = np.zeros(N)\n",
    "seed = 97\n",
    "last = seed\n",
    "for i in range(N):\n",
    "    last = lehmer(last)\n",
    "    ret[i] = last / m"
   ]
  },
  {
   "cell_type": "code",
   "execution_count": null,
   "metadata": {},
   "outputs": [],
   "source": [
    "x = ret[:10000]\n",
    "y = ret[2:10002]\n",
    "f, ax = plt.subplots(1, 1, figsize=(10, 10), dpi=100)\n",
    "plt.scatter(x, y, s=10)"
   ]
  },
  {
   "cell_type": "code",
   "execution_count": null,
   "metadata": {},
   "outputs": [],
   "source": [
    "K = 1000\n",
    "mk = N / K\n",
    "counts = np.zeros(K)\n",
    "for r in ret:\n",
    "    counts[int(r * K)] += 1\n",
    "\n",
    "even = 0\n",
    "for count in counts:\n",
    "    even += (count - mk)**2 / mk\n",
    "\n",
    "print(even)"
   ]
  },
  {
   "cell_type": "code",
   "execution_count": null,
   "metadata": {},
   "outputs": [],
   "source": []
  }
 ],
 "metadata": {
  "kernelspec": {
   "display_name": "Python 3",
   "language": "python",
   "name": "python3"
  },
  "language_info": {
   "codemirror_mode": {
    "name": "ipython",
    "version": 3
   },
   "file_extension": ".py",
   "mimetype": "text/x-python",
   "name": "python",
   "nbconvert_exporter": "python",
   "pygments_lexer": "ipython3",
   "version": "3.7.6"
  }
 },
 "nbformat": 4,
 "nbformat_minor": 4
}
